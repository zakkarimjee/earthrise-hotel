{
 "cells": [
  {
   "cell_type": "code",
   "execution_count": 28,
   "source": [
    "import requests\r\n",
    "import shutil\r\n",
    "import os\r\n",
    "import pandas as pd"
   ],
   "outputs": [],
   "metadata": {}
  },
  {
   "cell_type": "code",
   "execution_count": 13,
   "source": [
    "url_cards = \"https://netrunnerdb.com/api/2.0/public/cards\"\r\n",
    "response_cards = requests.get(url_cards)\r\n",
    "json_cards = response_cards.json()"
   ],
   "outputs": [],
   "metadata": {}
  },
  {
   "cell_type": "code",
   "execution_count": 15,
   "source": [
    "df_cards = pd.DataFrame(json_cards[\"data\"])\r\n"
   ],
   "outputs": [],
   "metadata": {}
  },
  {
   "cell_type": "code",
   "execution_count": 30,
   "source": [
    "def get_card_image(id):\r\n",
    "    # pad it to a 5 digit string\r\n",
    "    id_string = \"{:05d}\".format(id)\r\n",
    "    # get the url of the card\r\n",
    "    url_card_image = json_cards[\"imageUrlTemplate\"].format(code=id_string)\r\n",
    "    # generate a filename for the card\r\n",
    "    output_filename = \"cards/\" + url_card_image.split(\"/\")[-1]\r\n",
    "    # check if we already have the card downloaded\r\n",
    "    if os.path.exists(output_filename):\r\n",
    "        print(\"Cached at: \" + output_filename)\r\n",
    "        return True\r\n",
    "    else:\r\n",
    "        print(\"Running remote: \" + url_card_image)\r\n",
    "        try:\r\n",
    "            response_image = requests.get(url_card_image, stream=True)\r\n",
    "            with open(output_filename, 'wb') as out_file:\r\n",
    "                shutil.copyfileobj(response_image.raw, out_file)\r\n",
    "        except:\r\n",
    "            return False\r\n",
    "        return True\r\n",
    "\r\n",
    "get_card_image(10)"
   ],
   "outputs": [
    {
     "output_type": "stream",
     "name": "stdout",
     "text": [
      "Running remote: https://static.nrdbassets.com/v1/large/00010.jpg\n"
     ]
    },
    {
     "output_type": "execute_result",
     "data": {
      "text/plain": [
       "True"
      ]
     },
     "metadata": {},
     "execution_count": 30
    }
   ],
   "metadata": {}
  },
  {
   "cell_type": "code",
   "execution_count": null,
   "source": [],
   "outputs": [],
   "metadata": {}
  }
 ],
 "metadata": {
  "orig_nbformat": 4,
  "language_info": {
   "name": "python",
   "version": "3.8.2",
   "mimetype": "text/x-python",
   "codemirror_mode": {
    "name": "ipython",
    "version": 3
   },
   "pygments_lexer": "ipython3",
   "nbconvert_exporter": "python",
   "file_extension": ".py"
  },
  "kernelspec": {
   "name": "python3",
   "display_name": "Python 3.8.2 64-bit"
  },
  "interpreter": {
   "hash": "1baa965d5efe3ac65b79dfc60c0d706280b1da80fedb7760faf2759126c4f253"
  }
 },
 "nbformat": 4,
 "nbformat_minor": 2
}